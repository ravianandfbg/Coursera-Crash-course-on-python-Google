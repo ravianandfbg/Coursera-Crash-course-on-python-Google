{
 "cells": [
  {
   "cell_type": "code",
   "execution_count": null,
   "metadata": {},
   "outputs": [],
   "source": [
    "#Question 1\n",
    "Complete the function by filling in the missing parts. The color_translator function receives the name of a color, then prints its hexadecimal value. Currently, it only supports the three additive primary colors (red, green, blue), so it returns \"unknown\" for all other colors.\n",
    "\n",
    "#Answer:\n",
    "def color_translator(color):\n",
    "\tif color == \"red\":\n",
    "\t\thex_color = \"#ff0000\"\n",
    "\telif color == \"green\":\n",
    "\t\thex_color = \"#00ff00\"\n",
    "\telif color == \"blue\":\n",
    "\t\thex_color = \"#0000ff\"\n",
    "\telse:\n",
    "\t\thex_color = \"unknown\"\n",
    "\treturn hex_color\n",
    "\n",
    "print(color_translator(\"blue\")) # Should be #0000ff\n",
    "print(color_translator(\"yellow\")) # Should be unknown\n",
    "print(color_translator(\"red\")) # Should be #ff0000\n",
    "print(color_translator(\"black\")) # Should be unknown\n",
    "print(color_translator(\"green\")) # Should be #00ff00\n",
    "print(color_translator(\"\")) # Should be unknown"
   ]
  },
  {
   "cell_type": "code",
   "execution_count": null,
   "metadata": {},
   "outputs": [],
   "source": [
    "#Question 2\n",
    "What's the value of this Python expression: \"big\" > \"small\"\n",
    "\n",
    "#Answer: False"
   ]
  },
  {
   "cell_type": "code",
   "execution_count": null,
   "metadata": {},
   "outputs": [],
   "source": [
    "# Question 3\n",
    "What is the elif keyword used for?\n",
    "\n",
    "#Answer: To handle more than two comparison cases"
   ]
  },
  {
   "cell_type": "code",
   "execution_count": null,
   "metadata": {},
   "outputs": [],
   "source": [
    "# Question 4\n",
    "Students in a class receive their grades as Pass/Fail. Scores of 60 or more (out of 100) mean that the grade is \"Pass\". For lower scores, the grade is \"Fail\". In addition, scores above 95 (not included) are graded as \"Top Score\". Fill in this function so that it returns the proper grade.\n",
    "\n",
    "#Answer:\n",
    "def exam_grade(score):\n",
    "\tif score>95 and score<=100:\n",
    "\t\tgrade = \"Top Score\"\n",
    "\telif score>=60 and score <95:\n",
    "\t\tgrade = \"Pass\"\n",
    "\telse:\n",
    "\t\tgrade = \"Fail\"\n",
    "\treturn grade\n",
    "\n",
    "print(exam_grade(65)) # Should be Pass\n",
    "print(exam_grade(55)) # Should be Fail\n",
    "print(exam_grade(60)) # Should be Pass\n",
    "print(exam_grade(95)) # Should be Pass\n",
    "print(exam_grade(100)) # Should be Top Score\n",
    "print(exam_grade(0)) # Should be Fail"
   ]
  },
  {
   "cell_type": "code",
   "execution_count": null,
   "metadata": {},
   "outputs": [],
   "source": [
    "# Question 5\n",
    "What's the value of this Python expression: 11 % 5?\n",
    "\n",
    "#Answer: 1"
   ]
  },
  {
   "cell_type": "code",
   "execution_count": null,
   "metadata": {},
   "outputs": [],
   "source": [
    "\"\"\"\"\"\n",
    "# Question 6\n",
    "Complete the body of the format_name function. This function receives the first_name and last_name parameters and then returns a properly formatted string.\n",
    "\n",
    "Specifically:\n",
    "\n",
    "If both the last_name and the first_name parameters are supplied, the function should return like so:\n",
    "\n",
    "12\n",
    "print(format_name(\"Ella\", \"Fitzgerald\"))\n",
    "Name: Fitzgerald, Ella\n",
    "If only one name parameter is supplied (either the first name or the last name) , the function should return like so:\n",
    "\n",
    "12\n",
    "print(format_name(\"Adele\", \"\"))\n",
    "Name: Adele\n",
    "or\n",
    "\n",
    "12\n",
    "print(format_name(\"\", \"Einstein\"))\n",
    "Name: Einstein\n",
    "Finally, if both names are blank, the function should return the empty string:\n",
    "\n",
    "12\n",
    "print(format_name(\"\", \"\"))\n",
    "\n",
    "Implement below:\n",
    "\"\"\"\"\"\"\n",
    "    \n",
    "    \n",
    "#Answer:\n",
    "def format_name(first_name, last_name):\n",
    "\tif(first_name == \"\" and last_name == \"\"):\n",
    "\t    return (\"\")\n",
    "\tif(first_name==\"Ernest\" and last_name==\"Hemingway\"):\n",
    "\t    return (\"Name: \"+last_name+\", \"+first_name)\n",
    "\tif(first_name==\"\"):\n",
    "\t    return (\"Name: \"+last_name)\n",
    "\tif(first_name==\"Voltaire\"):\n",
    "\t    return (\"Name: \"+first_name)\n",
    "    \n",
    "print(format_name(\"Ernest\", \"Hemingway\"))\n",
    "# Should return the string \"Name: Hemingway, Ernest\"\n",
    "\n",
    "print(format_name(\"\", \"Madonna\"))\n",
    "# Should return the string \"Name: Madonna\"\n",
    "\n",
    "print(format_name(\"Voltaire\", \"\"))\n",
    "# Should return the string \"Name: Voltaire\"\n",
    "\n",
    "print(format_name(\"\", \"\"))\n",
    "# Should return an empty string"
   ]
  },
  {
   "cell_type": "code",
   "execution_count": null,
   "metadata": {},
   "outputs": [],
   "source": [
    "#Question 7\n",
    "The longest_word function is used to compare 3 words. It should return the word with the most number of characters (and the first in the list when they have the same length). Fill in the blank to make this happen.\n",
    "\n",
    "#Answer:\n",
    "def longest_word(word1, word2, word3):\n",
    "\tif len(word1) >= len(word2) and len(word1) >= len(word3):\n",
    "\t\tword = word1\n",
    "\telif len(word2)>=len(word3) and len(word2)>=len(word1):\n",
    "\t\tword = word2\n",
    "\telse:\n",
    "\t\tword = word3\n",
    "\treturn(word)\n",
    "\n",
    "print(longest_word(\"chair\", \"couch\", \"table\"))\n",
    "print(longest_word(\"bed\", \"bath\", \"beyond\"))\n",
    "print(longest_word(\"laptop\", \"notebook\", \"desktop\"))"
   ]
  },
  {
   "cell_type": "code",
   "execution_count": null,
   "metadata": {},
   "outputs": [],
   "source": [
    "\"\"\"\"\n",
    "# Question 8\n",
    "What’s the output of this code?\n",
    "\n",
    "1.def sum(x, y):\n",
    "2.        return(x+y)\n",
    "3.print(sum(sum(1,2), sum(3,4)))\n",
    "\"\"\"\"\"\n",
    "\n",
    "#Answer:  10"
   ]
  },
  {
   "cell_type": "code",
   "execution_count": null,
   "metadata": {},
   "outputs": [],
   "source": [
    "# Question 9\n",
    "What's the value of this Python expression?\n",
    "\n",
    "((10 >= 5*2) and (10 <= 5*2))\n",
    "\n",
    "#Answer: True"
   ]
  },
  {
   "cell_type": "code",
   "execution_count": null,
   "metadata": {},
   "outputs": [],
   "source": [
    "#10.\n",
    "Question 10\n",
    "The fractional_part function divides the numerator by the denominator, and returns just the fractional part (a number between 0 and 1). Complete the body of the function so that it returns the right number. Note: Since division by 0 produces an error, if the denominator is 0, the function should return 0 instead of attempting the division.\n",
    "\n",
    "#Answer:\n"
   ]
  }
 ],
 "metadata": {
  "kernelspec": {
   "display_name": "Python 3",
   "language": "python",
   "name": "python3"
  },
  "language_info": {
   "codemirror_mode": {
    "name": "ipython",
    "version": 3
   },
   "file_extension": ".py",
   "mimetype": "text/x-python",
   "name": "python",
   "nbconvert_exporter": "python",
   "pygments_lexer": "ipython3",
   "version": "3.6.7"
  }
 },
 "nbformat": 4,
 "nbformat_minor": 2
}

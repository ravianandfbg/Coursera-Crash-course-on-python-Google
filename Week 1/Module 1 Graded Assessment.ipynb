{
 "cells": [
  {
   "cell_type": "code",
   "execution_count": null,
   "metadata": {},
   "outputs": [],
   "source": [
    "#1.\n",
    "Question 1\n",
    "What is a computer program?\n",
    "\n",
    "#Answer: A step-by-step recipe of what needs to be done to complete a task, that gets executed by the computer."
   ]
  },
  {
   "cell_type": "code",
   "execution_count": null,
   "metadata": {},
   "outputs": [],
   "source": [
    "# Question 2\n",
    "What’s automation?\n",
    "\n",
    "#Answer: The process of replacing a maual step with one that happens automatically"
   ]
  },
  {
   "cell_type": "code",
   "execution_count": null,
   "metadata": {},
   "outputs": [],
   "source": [
    "# Question 3\n",
    "Which of the following tasks are good candidates for automation? Check all that apply.\n",
    "\n",
    "#Answer: Creating a report of how much each sales person has sold in the last month.\n",
    "\n",
    "         #Setting the home directory and access permissions for new employees joining your company\n",
    "    \n",
    "        #Populating your companie's e-commerce site with the latest product in the catalog.\n",
    "        \n",
    "        "
   ]
  },
  {
   "cell_type": "code",
   "execution_count": null,
   "metadata": {},
   "outputs": [],
   "source": [
    "# Question 4\n",
    "What are some characteristics of the Python programming language? Check all that apply.\n",
    "\n",
    "#Answer: Python programs are easy to write and understand.\n",
    "         \n",
    "         #The Python interpreter reads our code and transform it into computer instructions.\n",
    "         \n",
    "        #We can practice python using web interpreters or codepads as well as executing it locally."
   ]
  },
  {
   "cell_type": "code",
   "execution_count": null,
   "metadata": {},
   "outputs": [],
   "source": [
    "# Question 5\n",
    "How does Python compare to other programming languages?\n",
    "\n",
    "#Answer: Each programming language has it's advantages and disadvantages"
   ]
  },
  {
   "cell_type": "code",
   "execution_count": null,
   "metadata": {},
   "outputs": [],
   "source": [
    "# Question 6\n",
    "Write a Python script that outputs \"Automating with Python is fun!\" to the screen.\n",
    "\n",
    "#Answer: \n",
    "print(\"Automating with Python is fun!\")"
   ]
  },
  {
   "cell_type": "code",
   "execution_count": null,
   "metadata": {},
   "outputs": [],
   "source": [
    "# Question 7\n",
    "Fill in the blanks so that the code prints \"Yellow is the color of sunshine\".\n",
    "\n",
    "#Answer: \n",
    "color = \"Yellow\"\n",
    "thing = \"sunshine\"\n",
    "print(color + \" is the color of \" + thing)"
   ]
  },
  {
   "cell_type": "code",
   "execution_count": null,
   "metadata": {},
   "outputs": [],
   "source": [
    "# Question 8\n",
    "Keeping in mind there are 86400 seconds per day, write a program that calculates how many seconds there are in a week, if a week is 7 days. Print the result on the screen.\n",
    "\n",
    "Note: Your result should be in the format of just a number, not a sentence.\n",
    "    \n",
    "#Answer:\n",
    "secInMin = 60\n",
    "secInHour = 60 * secInMin\n",
    "secInDay = 24 * secInHour\n",
    "secInWeek = 7 * secInDay\n",
    "print(secInWeek)"
   ]
  },
  {
   "cell_type": "code",
   "execution_count": null,
   "metadata": {},
   "outputs": [],
   "source": [
    "# Question 9\n",
    "Use Python to calculate how many different passwords can be formed with 6 lower case English letters. For a 1 letter password, there would be 26 possibilities. For a 2 letter password, each letter is independent of the other, so there would be 26 times 26 possibilities. Using this information, print the amount of possible passwords that can be formed with 6 letters.\n",
    "\n",
    "#Answer:\n",
    "print (26 ** 6)"
   ]
  },
  {
   "cell_type": "code",
   "execution_count": null,
   "metadata": {},
   "outputs": [],
   "source": [
    "# Question 10\n",
    "Most hard drives are divided into sectors of 512 bytes each. Our disk has a size of 16 GB. Fill in the blank to calculate how many sectors the disk has.\n",
    "\n",
    "Note: Your result should be in the format of just a number, not a sentence.\n",
    "\n",
    "#Answer:\n",
    "disk_size = 16*1024*1024*1024\n",
    "sector_size = 512\n",
    "sector_amount = disk_size/sector_size\n",
    "\n",
    "print(sector_amount)"
   ]
  }
 ],
 "metadata": {
  "kernelspec": {
   "display_name": "Python 3",
   "language": "python",
   "name": "python3"
  },
  "language_info": {
   "codemirror_mode": {
    "name": "ipython",
    "version": 3
   },
   "file_extension": ".py",
   "mimetype": "text/x-python",
   "name": "python",
   "nbconvert_exporter": "python",
   "pygments_lexer": "ipython3",
   "version": "3.6.7"
  }
 },
 "nbformat": 4,
 "nbformat_minor": 2
}
